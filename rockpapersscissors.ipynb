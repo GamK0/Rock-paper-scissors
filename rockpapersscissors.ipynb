{
 "cells": [
  {
   "cell_type": "code",
   "execution_count": 13,
   "id": "25c64137",
   "metadata": {},
   "outputs": [
    {
     "name": "stdout",
     "output_type": "stream",
     "text": [
      "===================\n",
      "Rock Paper Scissors\n",
      "===================\n",
      "1) ✊\n",
      "2) ✋\n",
      "3) ✌️\n",
      "You chose: ✊\n",
      "CPU chose: ✌️\n",
      "The player won!\n"
     ]
    }
   ],
   "source": [
    "import random\n",
    "\n",
    "print(\"===================\")\n",
    "print(\"Rock Paper Scissors\")\n",
    "print(\"===================\")\n",
    "\n",
    "print(\"1) ✊\")\n",
    "print(\"2) ✋\")\n",
    "print(\"3) ✌️\")\n",
    "\n",
    "player = int(input(\"Number between 1 and 3:   \"))\n",
    "variable = random.randint(1,3)\n",
    "\n",
    "if player == 1:\n",
    "    print(\"You chose: ✊\")\n",
    "elif player == 2:\n",
    "    print(\"You chose: ✋\")\n",
    "elif player == 3:\n",
    "    print(\"You chose: ✌️\")\n",
    "else:\n",
    "    print(\"Invalid\")\n",
    "\n",
    "if variable == 1:\n",
    "    print(\"CPU chose: ✊\")\n",
    "elif variable == 2:\n",
    "    print(\"CPU chose: ✋\")\n",
    "elif variable == 3:\n",
    "    print(\"CPU chose: ✌️\")\n",
    "\n",
    "if player == 1 and variable == 3:\n",
    "    print(\"The player won!\")\n",
    "elif player == 2 and variable == 1:\n",
    "    print(\"The player won!\")\n",
    "elif player == 3 and variable == 2:\n",
    "    print(\"The player won!\")\n",
    "elif variable == 1 and player == 3:\n",
    "    print(\"The CPU won!\")\n",
    "elif variable == 2 and player == 1:\n",
    "    print(\"The CPU won!\")\n",
    "elif variable == 3 and player == 2:\n",
    "    print(\"The CPU won!\")\n",
    "elif player == variable:\n",
    "    print(\"Rematch\")"
   ]
  },
  {
   "cell_type": "code",
   "execution_count": null,
   "id": "57e014a1",
   "metadata": {},
   "outputs": [],
   "source": [
    "\n",
    "def dog_years(name, age):\n",
    "  human_years = age * 7\n",
    "  print(name + ' is ' + str(human_years) + ' years old in human years.')\n",
    "\n",
    "dog_years('Sugar', 15)"
   ]
  }
 ],
 "metadata": {
  "kernelspec": {
   "display_name": "Python 3",
   "language": "python",
   "name": "python3"
  },
  "language_info": {
   "codemirror_mode": {
    "name": "ipython",
    "version": 3
   },
   "file_extension": ".py",
   "mimetype": "text/x-python",
   "name": "python",
   "nbconvert_exporter": "python",
   "pygments_lexer": "ipython3",
   "version": "3.13.0"
  }
 },
 "nbformat": 4,
 "nbformat_minor": 5
}
